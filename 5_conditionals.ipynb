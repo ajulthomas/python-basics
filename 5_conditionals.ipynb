{
 "cells": [
  {
   "cell_type": "markdown",
   "metadata": {},
   "source": [
    "### Conditionals in Python"
   ]
  },
  {
   "cell_type": "code",
   "execution_count": 1,
   "metadata": {},
   "outputs": [
    {
     "name": "stdout",
     "output_type": "stream",
     "text": [
      "username is too long: 26 characters\n"
     ]
    }
   ],
   "source": [
    "# Program to validate the username\n",
    "\n",
    "def validate_username(username):\n",
    "    if len(username) < 8:\n",
    "        print(f'{username} username is only {len(username)} characters long')\n",
    "        print('Invalid username: must contain 8 or more characters')\n",
    "    elif len(username) > 15:\n",
    "        print(f\"username is too long: {len(username)} characters\")\n",
    "    else:\n",
    "        print('valid username')\n",
    "\n",
    "validate_username('anacondefewfwaedwredsferwd')\n"
   ]
  },
  {
   "cell_type": "code",
   "execution_count": null,
   "metadata": {},
   "outputs": [],
   "source": []
  }
 ],
 "metadata": {
  "interpreter": {
   "hash": "b58384eff67e076cf59edb4d1d66f9ef790353cfe8efb9b952569e27670c838c"
  },
  "kernelspec": {
   "display_name": "Python 3.9.7 ('base')",
   "language": "python",
   "name": "python3"
  },
  "language_info": {
   "codemirror_mode": {
    "name": "ipython",
    "version": 3
   },
   "file_extension": ".py",
   "mimetype": "text/x-python",
   "name": "python",
   "nbconvert_exporter": "python",
   "pygments_lexer": "ipython3",
   "version": "3.9.7"
  }
 },
 "nbformat": 4,
 "nbformat_minor": 2
}
