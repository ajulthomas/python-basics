{
 "cells": [
  {
   "cell_type": "markdown",
   "metadata": {},
   "source": [
    "### Conditionals in Python"
   ]
  },
  {
   "cell_type": "code",
   "execution_count": 7,
   "metadata": {},
   "outputs": [
    {
     "name": "stdout",
     "output_type": "stream",
     "text": [
      "username is too long: 26 characters\n"
     ]
    }
   ],
   "source": [
    "# Program to validate the username\n",
    "\n",
    "def validate_username(username):\n",
    "    if len(username) < 8:\n",
    "        print(f'{username} username is only {len(username)} characters long')\n",
    "        print('Invalid username: must contain 8 or more characters')\n",
    "    elif len(username) > 15:\n",
    "        print(f\"username is too long: {len(username)} characters\")\n",
    "    else:\n",
    "        print('valid username')\n",
    "\n",
    "validate_username('anacondefewfwaedwredsferwd')\n"
   ]
  },
  {
   "cell_type": "code",
   "execution_count": null,
   "metadata": {},
   "outputs": [],
   "source": []
  }
 ],
 "metadata": {
  "interpreter": {
   "hash": "54139d75768c859bc12a1fd064d62a6bd81d7dafe16e7ecf47b3d4a5897ce71d"
  },
  "kernelspec": {
   "display_name": "Python 3.9.7 ('base')",
   "language": "python",
   "name": "python3"
  },
  "language_info": {
   "codemirror_mode": {
    "name": "ipython",
    "version": 3
   },
   "file_extension": ".py",
   "mimetype": "text/x-python",
   "name": "python",
   "nbconvert_exporter": "python",
   "pygments_lexer": "ipython3",
   "version": "3.9.7"
  },
  "orig_nbformat": 4
 },
 "nbformat": 4,
 "nbformat_minor": 2
}
