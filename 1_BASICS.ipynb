{
 "cells": [
  {
   "cell_type": "code",
   "execution_count": 1,
   "id": "68226786",
   "metadata": {},
   "outputs": [
    {
     "name": "stdout",
     "output_type": "stream",
     "text": [
      "3.9.7 (default, Sep 16 2021, 16:59:28) [MSC v.1916 64 bit (AMD64)]\n",
      "sys.version_info(major=3, minor=9, micro=7, releaselevel='final', serial=0)\n"
     ]
    }
   ],
   "source": [
    "import sys\n",
    "print(sys.version)\n",
    "print(sys.version_info)"
   ]
  },
  {
   "cell_type": "markdown",
   "id": "77e177cf",
   "metadata": {},
   "source": [
    "# Basics\n",
    "## Comments, Print and Input"
   ]
  },
  {
   "cell_type": "code",
   "execution_count": 2,
   "id": "1358d461",
   "metadata": {},
   "outputs": [
    {
     "name": "stdout",
     "output_type": "stream",
     "text": [
      "Hello Worlds\n",
      "Please enter somethingWelcome to Python World\n",
      "Welcome to Python World\n"
     ]
    }
   ],
   "source": [
    "# use # to add comments\n",
    "print(\"Hello Worlds\")\n",
    "userInput = input(\"Please enter something\")\n",
    "print(userInput)"
   ]
  },
  {
   "cell_type": "markdown",
   "id": "f9210e91",
   "metadata": {},
   "source": [
    "#### Printing multiple lines of code\n",
    "\n",
    "use ''' to print multiline string"
   ]
  },
  {
   "cell_type": "code",
   "execution_count": 3,
   "id": "d2946b00",
   "metadata": {},
   "outputs": [
    {
     "name": "stdout",
     "output_type": "stream",
     "text": [
      "\n",
      "Hi I am Ajul Thomas. I am an electrical and electronics Engineering Graduate.\n",
      "I am very much interested in programming and software engineering.\n",
      "\n"
     ]
    }
   ],
   "source": [
    "print('''\n",
    "Hi I am Ajul Thomas. I am an electrical and electronics Engineering Graduate.\n",
    "I am very much interested in programming and software engineering.\n",
    "''')"
   ]
  },
  {
   "cell_type": "markdown",
   "id": "a6b1b2b7",
   "metadata": {},
   "source": [
    "#### Embedding variables using format method\n",
    "format method can be used in conjunction with print method for embedding variables into strings."
   ]
  },
  {
   "cell_type": "code",
   "execution_count": 5,
   "id": "e7aed96d",
   "metadata": {},
   "outputs": [
    {
     "name": "stdout",
     "output_type": "stream",
     "text": [
      "My name is Ajul Thomas, I am a Software Engineer\n"
     ]
    }
   ],
   "source": [
    "my_name = \"Ajul Thomas\"\n",
    "profession = \"Software Engineer\"\n",
    "print(\"My name is {}, I am a {}\".format(my_name, profession))"
   ]
  },
  {
   "cell_type": "code",
   "execution_count": 6,
   "id": "7b84db30",
   "metadata": {},
   "outputs": [
    {
     "name": "stdout",
     "output_type": "stream",
     "text": [
      "Pi is equal to 3.142\n"
     ]
    }
   ],
   "source": [
    "pi = 3.1415926535\n",
    "print(\"Pi is equal to {:.3f}\".format(pi))"
   ]
  },
  {
   "cell_type": "code",
   "execution_count": 7,
   "id": "9d31db9a",
   "metadata": {},
   "outputs": [
    {
     "name": "stdout",
     "output_type": "stream",
     "text": [
      "My name is Ajul Thomas\n"
     ]
    }
   ],
   "source": [
    "firstName = \"Ajul\"\n",
    "lastName = \"Thomas\"\n",
    "print(\"My name is {1} {0}\".format(lastName, firstName))"
   ]
  },
  {
   "cell_type": "code",
   "execution_count": 8,
   "id": "5b9cc6a4",
   "metadata": {},
   "outputs": [
    {
     "name": "stdout",
     "output_type": "stream",
     "text": [
      "my name is Ajul Thomas\n"
     ]
    }
   ],
   "source": [
    "print(f'my name is {firstName} {lastName}')"
   ]
  },
  {
   "cell_type": "code",
   "execution_count": 10,
   "id": "d77ea959",
   "metadata": {},
   "outputs": [
    {
     "name": "stdout",
     "output_type": "stream",
     "text": [
      "\n",
      "my name is Ajul Thomas\n",
      "\n"
     ]
    }
   ],
   "source": [
    "print(F'''\n",
    "my name is {firstName} {lastName}\n",
    "''')"
   ]
  },
  {
   "cell_type": "markdown",
   "id": "dff196cb",
   "metadata": {},
   "source": [
    "#### Input"
   ]
  },
  {
   "cell_type": "code",
   "execution_count": 1,
   "id": "e21c2c65",
   "metadata": {},
   "outputs": [
    {
     "name": "stdout",
     "output_type": "stream",
     "text": [
      "Hi, I am Ajul Thomas. I am 25 years old\n"
     ]
    }
   ],
   "source": [
    "name = input(\"Please enter your name : \\n\")\n",
    "age = input(\"Please enter your age: \\n\")\n",
    "print(f\"Hi, I am {name}. I am {age} years old\")"
   ]
  },
  {
   "cell_type": "code",
   "execution_count": 2,
   "id": "c955b334",
   "metadata": {},
   "outputs": [
    {
     "ename": "TypeError",
     "evalue": "can only concatenate str (not \"int\") to str",
     "output_type": "error",
     "traceback": [
      "\u001b[1;31m---------------------------------------------------------------------------\u001b[0m",
      "\u001b[1;31mTypeError\u001b[0m                                 Traceback (most recent call last)",
      "\u001b[1;32mC:\\Users\\AJUL_T~1\\AppData\\Local\\Temp/ipykernel_12460/1516339503.py\u001b[0m in \u001b[0;36m<module>\u001b[1;34m\u001b[0m\n\u001b[1;32m----> 1\u001b[1;33m \u001b[0mprint\u001b[0m\u001b[1;33m(\u001b[0m\u001b[0mage\u001b[0m\u001b[1;33m+\u001b[0m\u001b[1;36m1\u001b[0m\u001b[1;33m)\u001b[0m\u001b[1;33m\u001b[0m\u001b[1;33m\u001b[0m\u001b[0m\n\u001b[0m",
      "\u001b[1;31mTypeError\u001b[0m: can only concatenate str (not \"int\") to str"
     ]
    }
   ],
   "source": [
    "print(age+1)"
   ]
  },
  {
   "cell_type": "code",
   "execution_count": 3,
   "id": "1df22508",
   "metadata": {},
   "outputs": [
    {
     "name": "stdout",
     "output_type": "stream",
     "text": [
      "26\n"
     ]
    }
   ],
   "source": [
    "print(int(age)+1)"
   ]
  },
  {
   "cell_type": "markdown",
   "id": "45f132bd",
   "metadata": {},
   "source": [
    "__NOTE__:\n",
    "*The input function accepts inputs from the user. The input provided by the user is stored\n",
    "as a variable of type String. If you want to do any mathematical calculations with any\n",
    "numeric input, you need to change the data type of the input to int or float.*"
   ]
  },
  {
   "cell_type": "markdown",
   "id": "90376267",
   "metadata": {},
   "source": [
    "### Variables, Constants and Operators"
   ]
  },
  {
   "cell_type": "code",
   "execution_count": 2,
   "id": "9098bfbd",
   "metadata": {},
   "outputs": [
    {
     "name": "stdout",
     "output_type": "stream",
     "text": [
      "sum = 30 difference = -10 product = 200 quotient_int = 2 quotient_dec = 2.5 \n"
     ]
    }
   ],
   "source": [
    "a=10\n",
    "b=20\n",
    "sum_result=a+b\n",
    "difference = a-b\n",
    "product = a*b\n",
    "quotient_int = 5//2\n",
    "quotient_dec = 5/2\n",
    "print(f\"sum = {sum_result} difference = {difference} product = {product} quotient_int = {quotient_int} quotient_dec = {quotient_dec} \")"
   ]
  },
  {
   "cell_type": "markdown",
   "id": "bc01082f",
   "metadata": {},
   "source": [
    "##### Comparison Operators"
   ]
  },
  {
   "cell_type": "code",
   "execution_count": 3,
   "id": "a5af1cc3",
   "metadata": {},
   "outputs": [
    {
     "name": "stdout",
     "output_type": "stream",
     "text": [
      "True\n",
      "False\n",
      "False\n",
      "True\n",
      "False\n",
      "True\n"
     ]
    }
   ],
   "source": [
    "print(10 < 20)\n",
    "print(10>20)\n",
    "print(10 == 30)\n",
    "print(10<=20)\n",
    "print(10>=20)\n",
    "print(10!=20)"
   ]
  },
  {
   "cell_type": "markdown",
   "id": "696585a3",
   "metadata": {},
   "source": [
    "##### Logical Operators"
   ]
  },
  {
   "cell_type": "code",
   "execution_count": 4,
   "id": "74c48f64",
   "metadata": {},
   "outputs": [
    {
     "name": "stdout",
     "output_type": "stream",
     "text": [
      "False\n",
      "True\n",
      "False\n",
      "True\n"
     ]
    }
   ],
   "source": [
    "print(True and False)\n",
    "print(True or False)\n",
    "print(not True)\n",
    "print(not False)"
   ]
  },
  {
   "cell_type": "markdown",
   "id": "913f944d",
   "metadata": {},
   "source": [
    "##### Assignment Operators"
   ]
  },
  {
   "cell_type": "code",
   "execution_count": 6,
   "id": "6a8655a8",
   "metadata": {},
   "outputs": [
    {
     "name": "stdout",
     "output_type": "stream",
     "text": [
      "10\n",
      "11\n",
      "10\n",
      "20\n",
      "10.0\n",
      "2.0\n",
      "3\n"
     ]
    }
   ],
   "source": [
    "x = 10\n",
    "print(x)\n",
    "x+=1\n",
    "print(x)\n",
    "x-=1\n",
    "print(x)\n",
    "x*=2\n",
    "print(x)\n",
    "x/=2\n",
    "print(x)\n",
    "x%=4\n",
    "print(x)\n",
    "y = 10\n",
    "y//=3\n",
    "print(y)"
   ]
  },
  {
   "cell_type": "markdown",
   "id": "29d0b9d7",
   "metadata": {},
   "source": [
    "##### Identity Operators"
   ]
  },
  {
   "cell_type": "code",
   "execution_count": 8,
   "id": "1a7d2de2",
   "metadata": {},
   "outputs": [
    {
     "name": "stdout",
     "output_type": "stream",
     "text": [
      "True\n",
      "False\n",
      "False\n",
      "True\n"
     ]
    }
   ],
   "source": [
    "x= 4;\n",
    "y=5;\n",
    "z=4;\n",
    "print(x is z)\n",
    "print(x is not z)\n",
    "print(y is z)\n",
    "print(y is not z)"
   ]
  },
  {
   "cell_type": "markdown",
   "id": "01af04e1",
   "metadata": {},
   "source": [
    "##### Membership Operators"
   ]
  },
  {
   "cell_type": "code",
   "execution_count": 10,
   "id": "ba0af539",
   "metadata": {},
   "outputs": [
    {
     "name": "stdout",
     "output_type": "stream",
     "text": [
      "True\n",
      "True\n",
      "False\n",
      "False\n"
     ]
    }
   ],
   "source": [
    "name = \"ajul thomas\"\n",
    "print(\"thomas\" in name)\n",
    "print(\"z\" not in name)\n",
    "print(\"z\" in name)\n",
    "print(\"thomas\" not in name)"
   ]
  },
  {
   "cell_type": "markdown",
   "id": "a8c043ba",
   "metadata": {},
   "source": [
    "#### Data Types"
   ]
  },
  {
   "cell_type": "code",
   "execution_count": 11,
   "id": "65c9114a",
   "metadata": {},
   "outputs": [
    {
     "name": "stdout",
     "output_type": "stream",
     "text": [
      "<class 'int'>\n",
      "<class 'float'>\n",
      "<class 'str'>\n",
      "<class 'str'>\n",
      "<class 'bool'>\n"
     ]
    }
   ],
   "source": [
    "num = 10\n",
    "fl = 5.25\n",
    "c = 'a'\n",
    "s = \"some string\"\n",
    "boo = True\n",
    "print(type(num))\n",
    "print(type(fl))\n",
    "print(type(c))\n",
    "print(type(s))\n",
    "print(type(boo))"
   ]
  },
  {
   "cell_type": "markdown",
   "id": "55c842f8",
   "metadata": {},
   "source": [
    "##### DateTime"
   ]
  },
  {
   "cell_type": "code",
   "execution_count": 19,
   "metadata": {},
   "outputs": [
    {
     "name": "stdout",
     "output_type": "stream",
     "text": [
      "date ===> 1996-11-17, time ===> 12:10:03.000012\n",
      "datetime ===> 2022-12-25 04:45:05.000457\n"
     ]
    }
   ],
   "source": [
    "import datetime\n",
    "birthday = datetime.date(year = 1996, month = 11, day=17 )\n",
    "time = datetime.time(hour=12, minute=10, second=3, microsecond=12)\n",
    "print(f\"date ===> {birthday}, time ===> {time}\")\n",
    "dtm = datetime.datetime(year=2022, month=12, day=25, hour=4, minute=45, second=5, microsecond=457)\n",
    "print(f\"datetime ===> {dtm}\")"
   ]
  },
  {
   "cell_type": "code",
   "execution_count": null,
   "id": "00471ac1",
   "metadata": {},
   "outputs": [],
   "source": []
  }
 ],
 "metadata": {
  "kernelspec": {
   "display_name": "Python 3 (ipykernel)",
   "language": "python",
   "name": "python3"
  },
  "language_info": {
   "codemirror_mode": {
    "name": "ipython",
    "version": 3
   },
   "file_extension": ".py",
   "mimetype": "text/x-python",
   "name": "python",
   "nbconvert_exporter": "python",
   "pygments_lexer": "ipython3",
   "version": "3.9.7"
  }
 },
 "nbformat": 4,
 "nbformat_minor": 5
}
