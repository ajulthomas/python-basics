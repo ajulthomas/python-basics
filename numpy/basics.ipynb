{
 "cells": [
  {
   "attachments": {},
   "cell_type": "markdown",
   "metadata": {},
   "source": [
    "# Numpy\n",
    "### An Introduction to the Python Library extensively used in Data Science, AI, ML e.t.c"
   ]
  },
  {
   "cell_type": "code",
   "execution_count": 1,
   "metadata": {},
   "outputs": [
    {
     "name": "stdout",
     "output_type": "stream",
     "text": [
      "numpy array ===>  [1 2 3 4 5 6]\n",
      "Type of the np array object ===>  <class 'numpy.ndarray'>\n"
     ]
    }
   ],
   "source": [
    "# import numpy\n",
    "import numpy as np\n",
    "\n",
    "# creating a numpy array from a python List\n",
    "\n",
    "py_list = [1,2,3,4,5,6]\n",
    "np_array = np.array(py_list)\n",
    "print(\"numpy array ===> \", np_array)\n",
    "print(\"Type of the np array object ===> \", type(np_array))"
   ]
  },
  {
   "attachments": {},
   "cell_type": "markdown",
   "metadata": {},
   "source": [
    "# creating numpy arrays from scratch"
   ]
  },
  {
   "cell_type": "code",
   "execution_count": 2,
   "metadata": {},
   "outputs": [
    {
     "name": "stdout",
     "output_type": "stream",
     "text": [
      "1D array ===>  [0. 0. 0. 0. 0.]\n",
      "2D array ====>  [[0. 0. 0.]\n",
      " [0. 0. 0.]\n",
      " [0. 0. 0.]\n",
      " [0. 0. 0.]\n",
      " [0. 0. 0.]]\n",
      "3D array ===>  [[[0. 0. 0. 0.]\n",
      "  [0. 0. 0. 0.]\n",
      "  [0. 0. 0. 0.]]\n",
      "\n",
      " [[0. 0. 0. 0.]\n",
      "  [0. 0. 0. 0.]\n",
      "  [0. 0. 0. 0.]]]\n"
     ]
    }
   ],
   "source": [
    "# 1D array\n",
    "print( \"1D array ===> \",np.zeros(5))\n",
    "\n",
    "# 2D array\n",
    "print(\"2D array ====> \", np.zeros((5,3)))\n",
    "\n",
    "# 3D array\n",
    "print(\"3D array ===> \" , np.zeros((2,3,4)))"
   ]
  },
  {
   "cell_type": "code",
   "execution_count": 3,
   "metadata": {},
   "outputs": [
    {
     "name": "stdout",
     "output_type": "stream",
     "text": [
      "1D array ===>  [0.51551586 0.50229863 0.16288513 0.33179229 0.79430365]\n",
      "2D array ===>  [[0.72678675 0.10066571]\n",
      " [0.60110173 0.50668744]\n",
      " [0.03939803 0.611742  ]]\n",
      "3D array ===>  [[[0.6573514  0.80135125 0.21354463]\n",
      "  [0.71031041 0.42198639 0.26718953]]\n",
      "\n",
      " [[0.3761485  0.33994584 0.53034654]\n",
      "  [0.86639601 0.58029561 0.45884936]]]\n"
     ]
    }
   ],
   "source": [
    "# creating a numpy array with floating random numbers between 0 and 1.\n",
    "\n",
    "\n",
    "# 1D Array\n",
    "print(\"1D array ===> \", np.random.random((5)))\n",
    "\n",
    "# 2D Array\n",
    "print(\"2D array ===> \", np.random.random((3,2)))\n",
    "\n",
    "# 3D array\n",
    "print(\"3D array ===> \", np.random.random((2,2,3)))\n"
   ]
  },
  {
   "cell_type": "code",
   "execution_count": 4,
   "metadata": {},
   "outputs": [
    {
     "data": {
      "text/plain": [
       "array([0, 1, 2, 3, 4, 5, 6, 7, 8, 9])"
      ]
     },
     "execution_count": 4,
     "metadata": {},
     "output_type": "execute_result"
    }
   ],
   "source": [
    "# creating an array of evenly spaced numbers\n",
    "\n",
    "np.arange(10)"
   ]
  },
  {
   "cell_type": "code",
   "execution_count": 5,
   "metadata": {},
   "outputs": [
    {
     "data": {
      "text/plain": [
       "array([-3, -2, -1,  0,  1,  2])"
      ]
     },
     "execution_count": 5,
     "metadata": {},
     "output_type": "execute_result"
    }
   ],
   "source": [
    "np.arange(-3, 3)"
   ]
  },
  {
   "cell_type": "code",
   "execution_count": 6,
   "metadata": {},
   "outputs": [
    {
     "data": {
      "text/plain": [
       "array([-4, -2,  0,  2])"
      ]
     },
     "execution_count": 6,
     "metadata": {},
     "output_type": "execute_result"
    }
   ],
   "source": [
    "np.arange(-4,4,2)"
   ]
  },
  {
   "cell_type": "code",
   "execution_count": 7,
   "metadata": {},
   "outputs": [],
   "source": [
    "# plotting\n",
    "\n",
    "from matplotlib import pyplot as plt"
   ]
  },
  {
   "cell_type": "code",
   "execution_count": 11,
   "metadata": {},
   "outputs": [
    {
     "data": {
      "image/png": "[encoded data removed]",
      "text/plain": [
       "<Figure size 640x480 with 1 Axes>"
      ]
     },
     "metadata": {},
     "output_type": "display_data"
    }
   ],
   "source": [
    "x_values = np.arange(-11,12)\n",
    "\n",
    "y_values = x_values * x_values\n",
    "\n",
    "plt.scatter(x_values, y_values)\n",
    "plt.show()"
   ]
  }
 ],
 "metadata": {
  "kernelspec": {
   "display_name": "Python 3",
   "language": "python",
   "name": "python3"
  },
  "language_info": {
   "codemirror_mode": {
    "name": "ipython",
    "version": 3
   },
   "file_extension": ".py",
   "mimetype": "text/x-python",
   "name": "python",
   "nbconvert_exporter": "python",
   "pygments_lexer": "ipython3",
   "version": "3.10.4"
  },
  "orig_nbformat": 4
 },
 "nbformat": 4,
 "nbformat_minor": 2
}
