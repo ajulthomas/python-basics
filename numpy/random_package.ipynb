{
 "cells": [
  {
   "attachments": {},
   "cell_type": "markdown",
   "metadata": {},
   "source": [
    "## Random Package in numpy"
   ]
  },
  {
   "cell_type": "code",
   "execution_count": 3,
   "metadata": {},
   "outputs": [],
   "source": [
    "import numpy as np\n",
    "import math"
   ]
  },
  {
   "cell_type": "code",
   "execution_count": 2,
   "metadata": {},
   "outputs": [
    {
     "data": {
      "text/plain": [
       "0.28943717471983355"
      ]
     },
     "execution_count": 2,
     "metadata": {},
     "output_type": "execute_result"
    }
   ],
   "source": [
    "np.random.rand()"
   ]
  },
  {
   "cell_type": "code",
   "execution_count": 6,
   "metadata": {},
   "outputs": [
    {
     "name": "stdout",
     "output_type": "stream",
     "text": [
      "9\n",
      "9\n"
     ]
    }
   ],
   "source": [
    "np.random.seed(17111996)\n",
    "print(math.floor(np.random.rand() * 10))\n",
    "np.random.seed(17111996)\n",
    "print(math.floor(np.random.rand() * 10))\n",
    "\n",
    "# seed() ensures reproducability of results\n"
   ]
  },
  {
   "cell_type": "code",
   "execution_count": 8,
   "metadata": {},
   "outputs": [
    {
     "name": "stdout",
     "output_type": "stream",
     "text": [
      "1 0 1 0 1 1 1 1 0 0 0 0 0 1 0 1 0 1 0 1 "
     ]
    }
   ],
   "source": [
    "# Generates random integers from a specified range.\n",
    "# The low and high parameters define the range (inclusive on the low end and exclusive on the high end).\n",
    "for i in range(0,20):\n",
    "    print(np.random.randint(0,2), end=\" \")"
   ]
  },
  {
   "cell_type": "code",
   "execution_count": 12,
   "metadata": {},
   "outputs": [
    {
     "name": "stdout",
     "output_type": "stream",
     "text": [
      "[0, 0, 1, 2, 3, 4, 5, 6, 7, 8, 9]\n"
     ]
    }
   ],
   "source": [
    "somelist = [0]\n",
    "for i in range(10):\n",
    "    somelist.append(i)\n",
    "print(somelist)"
   ]
  },
  {
   "cell_type": "code",
   "execution_count": null,
   "metadata": {},
   "outputs": [],
   "source": [
    "np.random.seed(17111996)\n",
    "diceRollCumulativeX = [0]\n",
    "diceRollCumulativeY = [0]   \n",
    "\n",
    "for i in range(10):\n",
    "    diceX = np.random.randint(1,7)\n",
    "    diceY = np.random.randint(1,7)\n",
    "    diceRollCumulativeX.append()\n",
    "\n"
   ]
  }
 ],
 "metadata": {
  "kernelspec": {
   "display_name": "Python 3",
   "language": "python",
   "name": "python3"
  },
  "language_info": {
   "codemirror_mode": {
    "name": "ipython",
    "version": 3
   },
   "file_extension": ".py",
   "mimetype": "text/x-python",
   "name": "python",
   "nbconvert_exporter": "python",
   "pygments_lexer": "ipython3",
   "version": "3.10.4"
  },
  "orig_nbformat": 4
 },
 "nbformat": 4,
 "nbformat_minor": 2
}
