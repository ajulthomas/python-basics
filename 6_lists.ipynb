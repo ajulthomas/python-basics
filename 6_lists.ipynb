{
 "cells": [
  {
   "attachments": {},
   "cell_type": "markdown",
   "metadata": {},
   "source": [
    "# Python Lists\n",
    "\n",
    "List items are ordered, changeable, and allow duplicate values.\n",
    "\n",
    "list methods\n",
    "\n",
    "- len(<listname>)   -->         gives the length of the list\n",
    "- max(<listname>)   -->         returns the largest item in an iterable\n",
    "\n",
    "\n",
    "- .sort()           -->         will sort the list alphanumerically, ascending, by default\n",
    "- .reverse()        -->         reverses the order of the array \n",
    "- .remove()         -->         removes the first occurrence of the element with the specified value.\n",
    "\n"
   ]
  },
  {
   "attachments": {},
   "cell_type": "markdown",
   "metadata": {},
   "source": [
    "## Looping through lists"
   ]
  },
  {
   "cell_type": "code",
   "execution_count": 3,
   "metadata": {},
   "outputs": [
    {
     "name": "stdout",
     "output_type": "stream",
     "text": [
      "4\n",
      "4\n",
      "5\n",
      "6\n",
      "7\n",
      "7\n",
      "8\n",
      "9\n",
      "12\n",
      "13\n",
      "[13, 12, 9, 8, 7, 7, 6, 5, 4, 4]\n"
     ]
    }
   ],
   "source": [
    "nums = [4, 5, 4, 6, 7, 7, 8, 9, 12, 13 ]\n",
    "nums.sort()\n",
    "for num in nums:\n",
    "    print(num)\n",
    "\n",
    "nums.reverse()\n",
    "print(nums)"
   ]
  },
  {
   "cell_type": "markdown",
   "metadata": {},
   "source": []
  },
  {
   "cell_type": "code",
   "execution_count": null,
   "metadata": {},
   "outputs": [],
   "source": []
  }
 ],
 "metadata": {
  "kernelspec": {
   "display_name": "Python 3",
   "language": "python",
   "name": "python3"
  },
  "language_info": {
   "codemirror_mode": {
    "name": "ipython",
    "version": 3
   },
   "file_extension": ".py",
   "mimetype": "text/x-python",
   "name": "python",
   "nbconvert_exporter": "python",
   "pygments_lexer": "ipython3",
   "version": "3.10.4"
  },
  "orig_nbformat": 4,
  "vscode": {
   "interpreter": {
    "hash": "3ad933181bd8a04b432d3370b9dc3b0662ad032c4dfaa4e4f1596c548f763858"
   }
  }
 },
 "nbformat": 4,
 "nbformat_minor": 2
}
