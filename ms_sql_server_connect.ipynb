{
 "cells": [
  {
   "cell_type": "markdown",
   "id": "02147d96-e190-4e83-8571-0cfcd63cc159",
   "metadata": {},
   "source": [
    "# Connecting to a MS SQL database\n",
    "\n",
    "The objective of this POC project is to:\n",
    "\n",
    "1) To establish a successful MS SQl db connection using python.\n",
    "\n",
    "2) Successfully excute CRUD operations."
   ]
  },
  {
   "cell_type": "markdown",
   "id": "17d59579-d2c4-4353-9f83-39b52ef795e1",
   "metadata": {
    "tags": []
   },
   "source": [
    "# Set up my sql server using docker [Reference](https://learn.microsoft.com/en-us/sql/linux/quickstart-install-connect-docker?view=sql-server-ver16&pivots=cs1-bash).\n",
    "\n",
    "#### Steps:\n",
    "\n",
    "1) Pull the SQL Server 2022 (16.x) Linux container image from the Microsoft Container Registry.\n",
    "\n",
    "```sh\n",
    "docker pull mcr.microsoft.com/mssql/server:2022-latest\n",
    "```\n",
    "\n",
    "2) To run the Linux container image with Docker, you can use the following command from a bash shell or elevated PowerShell command prompt.\n",
    "\n",
    "```sh\n",
    "docker run -e \"ACCEPT_EULA=Y\" -e \"MSSQL_SA_PASSWORD=Admin@101\" \\\n",
    "   -p 1433:1433 --name sql1 --hostname sql1 \\\n",
    "   -d \\\n",
    "   mcr.microsoft.com/mssql/server:2022-latest\n",
    "```\n",
    "\n",
    "3) To view your Docker containers, use the docker ps command.\n",
    "\n",
    "```sh\n",
    "docker ps -a\n",
    "```\n",
    "\n",
    "4) Check SQL server logs\n",
    "\n",
    "```sh \n",
    "docker exec -t sql1 cat /var/opt/mssql/log/errorlog | grep connection\n",
    "```\n",
    "\n",
    "5) connect to sql server\n",
    "\n",
    "```sh\n",
    "docker exec -it sql1 \"bash\"\n",
    "```\n",
    "\n",
    "6) Connect to db using the bash terminal of docker container.\n",
    "\n",
    "```sh\n",
    "/opt/mssql-tools/bin/sqlcmd -S localhost -U SA -P \"Admin@101\"\n",
    "```\n",
    "\n",
    "7) Install SQL ODBC Driver and SQL Command tools.\n",
    "\n",
    "```sh\n",
    "\n",
    "if ! [[ \"18.04 20.04 22.04\" == *\"$(lsb_release -rs)\"* ]];\n",
    "then\n",
    "    echo \"Ubuntu $(lsb_release -rs) is not currently supported.\";\n",
    "    exit;\n",
    "fi\n",
    "\n",
    "sudo su\n",
    "curl https://packages.microsoft.com/keys/microsoft.asc | apt-key add -\n",
    "\n",
    "curl https://packages.microsoft.com/config/ubuntu/$(lsb_release -rs)/prod.list > /etc/apt/sources.list.d/mssql-release.list\n",
    "\n",
    "exit\n",
    "sudo apt-get update\n",
    "sudo ACCEPT_EULA=Y apt-get install -y msodbcsql18\n",
    "# optional: for bcp and sqlcmd\n",
    "sudo ACCEPT_EULA=Y apt-get install -y mssql-tools18\n",
    "echo 'export PATH=\"$PATH:/opt/mssql-tools18/bin\"' >> ~/.bashrc\n",
    "source ~/.bashrc\n",
    "# optional: for unixODBC development headers\n",
    "sudo apt-get install -y unixodbc-dev\n",
    "\n",
    "```"
   ]
  },
  {
   "cell_type": "markdown",
   "id": "e824302b-02bf-4d32-a489-d5243f175664",
   "metadata": {
    "tags": []
   },
   "source": [
    "# Setting up sample database\n",
    "\n",
    "1) Login to docker conrtainer as root user\n",
    "\n",
    "```sh\n",
    "docker exec -u 0 -it sql1 bash\n",
    "```\n",
    "\n",
    "2) Download the AdventureWorks2019 sample database bakup file into the docker container\n",
    "\n",
    "```sh\n",
    "wget https://github.com/Microsoft/sql-server-samples/releases/download/adventureworks/AdventureWorks2019.bak -O /var/opt/mssql/backup/AdventureWorks2019.bak\n",
    "```\n",
    "\n",
    "3) Restore database using the backup file\n",
    "\n",
    "```sql\n",
    "USE [master]\n",
    "RESTORE DATABASE [AdventureWorks2019]\n",
    "FROM DISK = '/var/opt/mssql/backup/AdventureWorks2019.bak'\n",
    "WITH MOVE 'AdventureWorks2017' TO '/var/opt/mssql/data/AdventureWorks2019.mdf',\n",
    "MOVE 'AdventureWorks2017_log' TO '/var/opt/mssql/data/AdventureWorks2019_log.ldf',\n",
    "FILE = 1,  NOUNLOAD,  STATS = 5\n",
    "GO\n",
    "```"
   ]
  },
  {
   "cell_type": "markdown",
   "id": "1e0b3c85-e50e-41fa-bb9d-a4d3aa47ef7d",
   "metadata": {},
   "source": [
    "# Connect to MS SQL Server using the `pyodbc`\n",
    "\n",
    "### Install ```pyodbc```"
   ]
  },
  {
   "cell_type": "code",
   "execution_count": 1,
   "id": "f3b5c670-59e6-4e73-a74e-191feb3cda96",
   "metadata": {},
   "outputs": [
    {
     "name": "stdout",
     "output_type": "stream",
     "text": [
      "Requirement already satisfied: pyodbc in /home/ajul/anaconda3/lib/python3.9/site-packages (4.0.0-unsupported)\n",
      "Note: you may need to restart the kernel to use updated packages.\n"
     ]
    }
   ],
   "source": [
    "pip install pyodbc"
   ]
  },
  {
   "cell_type": "markdown",
   "id": "f9b8d123-0993-40dd-a625-7078559124b6",
   "metadata": {},
   "source": [
    "### Connect to server"
   ]
  },
  {
   "cell_type": "code",
   "execution_count": 4,
   "id": "b899708d-f00e-4967-ba1f-6bace500e954",
   "metadata": {},
   "outputs": [],
   "source": [
    "import pyodbc \n",
    "# Some other example server values are\n",
    "# server = 'localhost\\sqlexpress' # for a named instance\n",
    "# server = 'myserver,port' # to specify an alternate port\n",
    "server = 'localhost,1433' \n",
    "database = 'TestDB' \n",
    "username = 'SA' \n",
    "password = 'Admin@101' \n",
    "# ENCRYPT defaults to yes starting in ODBC Driver 18. It's good to always specify ENCRYPT=yes on the client side to avoid MITM attacks.\n",
    "cnxn = pyodbc.connect('DRIVER={ODBC Driver 18 for SQL Server};SERVER='+server+';DATABASE='+database+';ENCRYPT=no;UID='+username+';PWD='+ password)\n",
    "cursor = cnxn.cursor()"
   ]
  },
  {
   "cell_type": "markdown",
   "id": "107468a1-e726-4b6c-94e2-5b62bb65d74b",
   "metadata": {},
   "source": [
    "### Run Query"
   ]
  },
  {
   "cell_type": "code",
   "execution_count": 5,
   "id": "4b70385c-bb87-4dbf-9309-90eea4a86072",
   "metadata": {},
   "outputs": [
    {
     "name": "stdout",
     "output_type": "stream",
     "text": [
      "Microsoft SQL Server 2022 (RTM) - 16.0.1000.6 (X64) \n",
      "\tOct  8 2022 05:58:25 \n",
      "\tCopyright (C) 2022 Microsoft Corporation\n",
      "\tDeveloper Edition (64-bit) on Linux (Ubuntu 20.04.5 LTS) <X64>\n"
     ]
    }
   ],
   "source": [
    "#Sample select query\n",
    "cursor.execute(\"SELECT @@version;\") \n",
    "row = cursor.fetchone() \n",
    "while row: \n",
    "    print(row[0])\n",
    "    row = cursor.fetchone()"
   ]
  },
  {
   "cell_type": "markdown",
   "id": "8f55a873-fe8e-4ad2-820f-a7f208663ac0",
   "metadata": {},
   "source": [
    "### Insert a Row"
   ]
  },
  {
   "cell_type": "code",
   "execution_count": 11,
   "id": "ce8d7887-3328-4602-89bb-717e13338f42",
   "metadata": {},
   "outputs": [
    {
     "name": "stdout",
     "output_type": "stream",
     "text": [
      "-1\n"
     ]
    }
   ],
   "source": [
    "#Sample insert query\n",
    "count = cursor.execute(\"USE TestDB;\").\n",
    "cnxn.commit()\n",
    "print(count)"
   ]
  },
  {
   "cell_type": "code",
   "execution_count": null,
   "id": "73509b4c-6991-42de-9dbb-f6811fff6255",
   "metadata": {},
   "outputs": [],
   "source": []
  }
 ],
 "metadata": {
  "kernelspec": {
   "display_name": "Python 3 (ipykernel)",
   "language": "python",
   "name": "python3"
  },
  "language_info": {
   "codemirror_mode": {
    "name": "ipython",
    "version": 3
   },
   "file_extension": ".py",
   "mimetype": "text/x-python",
   "name": "python",
   "nbconvert_exporter": "python",
   "pygments_lexer": "ipython3",
   "version": "3.9.7"
  }
 },
 "nbformat": 4,
 "nbformat_minor": 5
}
