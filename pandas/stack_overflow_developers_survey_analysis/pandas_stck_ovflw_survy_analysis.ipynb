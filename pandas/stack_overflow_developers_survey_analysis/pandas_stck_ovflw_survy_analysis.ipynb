{
 "cells": [
  {
   "attachments": {},
   "cell_type": "markdown",
   "metadata": {},
   "source": [
    "# Stack Overflow Survey Analysis using Pandas\n",
    "\n",
    "- based on video tutorial by Corey Schafer [link](https://www.youtube.com/watch?v=ZyhVh-qRZPA&list=PL-osiE80TeTsWmV9i9c58mdDCSskIFdDS)\n",
    "- download data from [link](https://insights.stackoverflow.com/survey/?_ga=2.263909640.581924136.1682304729-1804714706.1682304729)"
   ]
  }
 ],
 "metadata": {
  "language_info": {
   "name": "python"
  },
  "orig_nbformat": 4
 },
 "nbformat": 4,
 "nbformat_minor": 2
}
